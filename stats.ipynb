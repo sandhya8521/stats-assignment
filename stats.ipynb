{
 "cells": [
  {
   "cell_type": "markdown",
   "id": "ae1abda2-154c-41e3-bab2-45c6ef8f8a69",
   "metadata": {},
   "source": [
    "1. Generate a list of 100 integers containing values between 90 to 130 and store it in the variable int_list. After generating the list, find the following:     "
   ]
  },
  {
   "cell_type": "code",
   "execution_count": 2,
   "id": "cde23be5-828b-49d5-a30f-b1c4efdf72cc",
   "metadata": {},
   "outputs": [
    {
     "name": "stdout",
     "output_type": "stream",
     "text": [
      "[92, 123, 108, 126, 117, 98, 110, 117, 91, 98, 92, 90, 94, 127, 119, 124, 112, 91, 91, 119, 95, 127, 95, 123, 97, 114, 128, 126, 95, 103, 96, 100, 99, 105, 128, 119, 118, 115, 119, 129, 128, 114, 108, 109, 95, 130, 93, 91, 93, 118, 121, 119, 115, 120, 123, 122, 106, 127, 105, 100, 95, 93, 130, 111, 96, 124, 99, 115, 99, 103, 128, 90, 92, 125, 123, 106, 99, 115, 102, 106, 116, 100, 102, 91, 104, 104, 129, 123, 102, 101, 123, 126, 103, 98, 124, 107, 130, 104, 101, 124]\n"
     ]
    }
   ],
   "source": [
    "import random\n",
    "\n",
    "int_list = [random.randint(90, 130) for _ in range(100)]\n",
    "print(int_list)\n"
   ]
  },
  {
   "cell_type": "code",
   "execution_count": 3,
   "id": "c628865d-9b0c-4ad5-ab5c-40bfbcf8ac49",
   "metadata": {},
   "outputs": [
    {
     "name": "stdout",
     "output_type": "stream",
     "text": [
      "Mean: 109.7\n",
      "Median: 108.0\n"
     ]
    }
   ],
   "source": [
    "#(i) Write a Python function to calculate the mean of a given list of numbers. Create a function to find the median of a list of numbers.\n",
    "\n",
    "def calculate_mean(numbers):\n",
    "    return sum(numbers) / len(numbers)\n",
    "\n",
    "mean_value = calculate_mean(int_list)\n",
    "print(f\"Mean: {mean_value}\")\n",
    "\n",
    "\n",
    "def calculate_median(numbers):\n",
    "    sorted_numbers = sorted(numbers)\n",
    "    n = len(sorted_numbers)\n",
    "    mid = n // 2\n",
    "    \n",
    "    if n % 2 == 0:\n",
    "        return (sorted_numbers[mid - 1] + sorted_numbers[mid]) / 2\n",
    "    else:\n",
    "        return sorted_numbers[mid]\n",
    "\n",
    "median_value = calculate_median(int_list)\n",
    "print(f\"Median: {median_value}\")\n"
   ]
  },
  {
   "cell_type": "code",
   "execution_count": 4,
   "id": "2b98813b-8bbf-4fba-bb69-9f518d1c13ec",
   "metadata": {},
   "outputs": [
    {
     "name": "stdout",
     "output_type": "stream",
     "text": [
      "Mode: [123]\n"
     ]
    }
   ],
   "source": [
    "#(ii) Develop a program to compute the mode of a list of integers.\n",
    "\n",
    "from collections import Counter\n",
    "\n",
    "def calculate_mode(numbers):\n",
    "    count = Counter(numbers)\n",
    "    max_count = max(count.values())\n",
    "    mode = [num for num, freq in count.items() if freq == max_count]\n",
    "    \n",
    "    if len(mode) == len(numbers):\n",
    "        return \"No mode found\"\n",
    "    else:\n",
    "        return mode\n",
    "\n",
    "mode_value = calculate_mode(int_list)\n",
    "print(f\"Mode: {mode_value}\")\n"
   ]
  },
  {
   "cell_type": "code",
   "execution_count": 5,
   "id": "79a541fa-e315-4cb0-aa3e-5eb5736b0ba7",
   "metadata": {},
   "outputs": [
    {
     "name": "stdout",
     "output_type": "stream",
     "text": [
      "Weighted Mean: 108.57037037037037\n"
     ]
    }
   ],
   "source": [
    "# (iii) Implement a function to calculate the weighted mean of a list of values and their corresponding weights.\n",
    "\n",
    "def calculate_weighted_mean(values, weights):\n",
    "    weighted_sum = sum(value * weight for value, weight in zip(values, weights))\n",
    "    return weighted_sum / sum(weights)\n",
    "\n",
    "weights = [random.randint(1, 5) for _ in range(100)]\n",
    "weighted_mean_value = calculate_weighted_mean(int_list, weights)\n",
    "print(f\"Weighted Mean: {weighted_mean_value}\")\n"
   ]
  },
  {
   "cell_type": "code",
   "execution_count": 6,
   "id": "99789886-6c8f-4923-9660-a22955ca0f89",
   "metadata": {},
   "outputs": [
    {
     "name": "stdout",
     "output_type": "stream",
     "text": [
      "Geometric Mean: 108.95165116627258\n"
     ]
    }
   ],
   "source": [
    "# (iv) Write a Python function to find the geometric mean of a list of positive numbers.\n",
    "\n",
    "import math\n",
    "\n",
    "def calculate_geometric_mean(numbers):\n",
    "    product = 1\n",
    "    for number in numbers:\n",
    "        product *= number\n",
    "    return product ** (1 / len(numbers))\n",
    "\n",
    "geometric_mean_value = calculate_geometric_mean(int_list)\n",
    "print(f\"Geometric Mean: {geometric_mean_value}\")\n"
   ]
  },
  {
   "cell_type": "code",
   "execution_count": 7,
   "id": "100e2321-059e-4d2b-8502-7d2150ea6902",
   "metadata": {},
   "outputs": [
    {
     "name": "stdout",
     "output_type": "stream",
     "text": [
      "Harmonic Mean: 108.20542070272046\n"
     ]
    }
   ],
   "source": [
    "# (v) Create a program to calculate the harmonic mean of a list of values.\n",
    "\n",
    "def calculate_harmonic_mean(numbers):\n",
    "    return len(numbers) / sum(1 / number for number in numbers)\n",
    "\n",
    "harmonic_mean_value = calculate_harmonic_mean(int_list)\n",
    "print(f\"Harmonic Mean: {harmonic_mean_value}\")\n"
   ]
  },
  {
   "cell_type": "code",
   "execution_count": 8,
   "id": "a8f9d5ab-bb80-43cb-9837-5bf5c382334a",
   "metadata": {},
   "outputs": [
    {
     "name": "stdout",
     "output_type": "stream",
     "text": [
      "Midrange: 110.0\n"
     ]
    }
   ],
   "source": [
    "# (vi) Build a function to determine the midrange of a list of numbers (average of the minimum and maximum).\n",
    "\n",
    "def calculate_midrange(numbers):\n",
    "    return (min(numbers) + max(numbers)) / 2\n",
    "\n",
    "midrange_value = calculate_midrange(int_list)\n",
    "print(f\"Midrange: {midrange_value}\")\n"
   ]
  },
  {
   "cell_type": "code",
   "execution_count": 9,
   "id": "a3fdb1cd-1ae3-46bf-a34a-de599026b7e8",
   "metadata": {},
   "outputs": [
    {
     "name": "stdout",
     "output_type": "stream",
     "text": [
      "Trimmed Mean (excluding 10% outliers): 109.65\n"
     ]
    }
   ],
   "source": [
    "# (vii) Implement a Python program to find the trimmed mean of a list, excluding a certain percentage of outliers.\n",
    "\n",
    "def calculate_trimmed_mean(numbers, percentage):\n",
    "    sorted_numbers = sorted(numbers)\n",
    "    trim_count = int(len(sorted_numbers) * (percentage / 100))\n",
    "    trimmed_numbers = sorted_numbers[trim_count:-trim_count]\n",
    "    return sum(trimmed_numbers) / len(trimmed_numbers)\n",
    "\n",
    "trimmed_mean_value = calculate_trimmed_mean(int_list, 10)  # Excluding 10% of outliers\n",
    "print(f\"Trimmed Mean (excluding 10% outliers): {trimmed_mean_value}\")\n"
   ]
  },
  {
   "cell_type": "markdown",
   "id": "9c9b95ef-bfc8-4437-8999-8ca51740e78b",
   "metadata": {},
   "source": [
    "2. Generate a list of 500 integers containing values between 200 to 300 and store it in the variable int_list2\". After generating the list, find the following:"
   ]
  },
  {
   "cell_type": "code",
   "execution_count": 10,
   "id": "6aa26e1b-d63b-4efb-8b68-cbfe9e8d7be4",
   "metadata": {},
   "outputs": [
    {
     "name": "stdout",
     "output_type": "stream",
     "text": [
      "[231, 257, 288, 216, 264, 293, 201, 233, 232, 217, 291, 271, 289, 239, 214, 278, 236, 210, 217, 293, 213, 232, 233, 295, 288, 230, 212, 285, 253, 293, 264, 255, 234, 255, 299, 231, 218, 227, 218, 234, 243, 251, 214, 253, 289, 212, 293, 234, 240, 292, 245, 215, 274, 225, 204, 252, 201, 263, 227, 238, 270, 212, 267, 209, 206, 237, 263, 283, 240, 291, 248, 227, 207, 222, 257, 276, 272, 242, 292, 258, 209, 258, 273, 285, 230, 257, 231, 206, 245, 277, 271, 299, 293, 271, 232, 266, 208, 282, 264, 299, 262, 281, 259, 201, 261, 240, 257, 265, 294, 227, 200, 228, 286, 257, 234, 263, 282, 261, 246, 242, 264, 209, 279, 223, 210, 243, 281, 249, 297, 244, 217, 209, 250, 246, 292, 264, 255, 208, 294, 247, 288, 285, 278, 275, 247, 256, 271, 257, 220, 291, 214, 207, 258, 203, 283, 236, 287, 288, 254, 259, 240, 239, 290, 209, 219, 228, 211, 217, 273, 218, 215, 265, 288, 287, 248, 264, 283, 206, 240, 283, 200, 285, 285, 284, 219, 251, 246, 265, 231, 246, 278, 267, 280, 227, 289, 204, 213, 238, 293, 240, 210, 264, 294, 283, 289, 274, 222, 254, 208, 240, 217, 263, 283, 275, 293, 231, 270, 247, 255, 292, 269, 275, 246, 205, 287, 267, 289, 270, 212, 300, 287, 200, 271, 242, 233, 253, 221, 249, 205, 226, 227, 207, 236, 285, 274, 286, 215, 211, 243, 265, 279, 206, 260, 259, 260, 226, 287, 242, 243, 252, 263, 226, 223, 200, 214, 290, 251, 262, 214, 224, 264, 274, 233, 289, 226, 233, 210, 247, 285, 213, 276, 267, 240, 221, 239, 259, 262, 271, 238, 209, 262, 231, 288, 275, 203, 260, 282, 215, 268, 245, 209, 278, 205, 222, 290, 241, 238, 279, 262, 232, 272, 244, 226, 295, 248, 211, 228, 246, 277, 272, 253, 283, 229, 212, 239, 212, 273, 241, 256, 234, 300, 221, 269, 216, 216, 284, 225, 247, 289, 232, 288, 236, 240, 252, 294, 211, 280, 229, 210, 286, 300, 224, 288, 224, 260, 246, 221, 212, 265, 202, 255, 276, 204, 299, 218, 217, 270, 266, 237, 272, 256, 297, 224, 221, 295, 274, 237, 275, 284, 222, 226, 227, 289, 255, 216, 247, 264, 249, 230, 200, 269, 217, 253, 243, 240, 207, 244, 245, 204, 236, 208, 290, 225, 263, 214, 268, 277, 215, 270, 280, 285, 200, 295, 294, 224, 223, 223, 264, 267, 280, 254, 234, 292, 262, 262, 223, 258, 232, 276, 207, 270, 285, 265, 260, 269, 299, 250, 286, 277, 300, 221, 245, 281, 261, 267, 212, 256, 221, 200, 291, 231, 237, 298, 256, 205, 265, 232, 261, 289, 284, 277, 255, 292, 254, 273, 300, 227, 300, 270, 225, 224, 253, 297, 262, 273, 234, 265, 254, 231, 271, 264, 255, 266, 300, 254, 234, 292, 274, 282, 262, 291, 257, 219, 224, 271, 289, 287, 268, 233, 215]\n"
     ]
    }
   ],
   "source": [
    "import random\n",
    "\n",
    "int_list2 = [random.randint(200, 300) for _ in range(500)]\n",
    "print(int_list2)\n"
   ]
  },
  {
   "cell_type": "code",
   "execution_count": 11,
   "id": "0ffc455e-0518-4a3d-83b9-9386d1871a02",
   "metadata": {},
   "outputs": [
    {
     "data": {
      "image/png": "[encoded data removed]",
      "text/plain": [
       "<Figure size 640x480 with 1 Axes>"
      ]
     },
     "metadata": {},
     "output_type": "display_data"
    }
   ],
   "source": [
    "# (i) Compare the given list of visualization for the given data:\n",
    "\n",
    "# 1. Frequency & Gaussian distribution:\n",
    "\n",
    "import matplotlib.pyplot as plt\n",
    "import numpy as np\n",
    "import seaborn as sns\n",
    "\n",
    "# Plotting Frequency Histogram\n",
    "plt.hist(int_list2, bins=30, alpha=0.5, color='blue', label='Frequency')\n",
    "\n",
    "# Plotting Gaussian Distribution\n",
    "mu, sigma = np.mean(int_list2), np.std(int_list2)\n",
    "x = np.linspace(min(int_list2), max(int_list2), 100)\n",
    "plt.plot(x, 500 * np.exp(-((x - mu) ** 2) / (2 * sigma ** 2)), 'r-', label='Gaussian')\n",
    "\n",
    "plt.legend()\n",
    "plt.show()\n",
    "\n"
   ]
  },
  {
   "cell_type": "code",
   "execution_count": 12,
   "id": "10859396-6a0a-4f6f-97f6-9361aec3bb7c",
   "metadata": {},
   "outputs": [
    {
     "data": {
      "image/png": "[encoded data removed]",
      "text/plain": [
       "<Figure size 640x480 with 1 Axes>"
      ]
     },
     "metadata": {},
     "output_type": "display_data"
    }
   ],
   "source": [
    "# 2. Frequency smoothened KDE plot:\n",
    "\n",
    "sns.histplot(int_list2, bins=30, kde=True)\n",
    "plt.title('Frequency Histogram with KDE')\n",
    "plt.show()\n"
   ]
  },
  {
   "cell_type": "code",
   "execution_count": 13,
   "id": "509e29dc-3c0b-4996-8ca5-393ea3245682",
   "metadata": {},
   "outputs": [
    {
     "data": {
      "image/png": "[encoded data removed]",
      "text/plain": [
       "<Figure size 640x480 with 1 Axes>"
      ]
     },
     "metadata": {},
     "output_type": "display_data"
    }
   ],
   "source": [
    "# 3. Gaussian distribution & smoothened KDE plot:\n",
    "\n",
    "sns.kdeplot(int_list2, color='blue', label='KDE')\n",
    "plt.plot(x, np.exp(-((x - mu) ** 2) / (2 * sigma ** 2)), 'r-', label='Gaussian')\n",
    "plt.legend()\n",
    "plt.title('Gaussian Distribution & KDE')\n",
    "plt.show()\n"
   ]
  },
  {
   "cell_type": "code",
   "execution_count": 14,
   "id": "e159172e-f675-43ce-8b33-4aa66e96b2b4",
   "metadata": {},
   "outputs": [
    {
     "name": "stdout",
     "output_type": "stream",
     "text": [
      "Range: 100\n"
     ]
    }
   ],
   "source": [
    "# ii) Write a Python function to calculate the range of a given list of numbers.\n",
    "\n",
    "def calculate_range(numbers):\n",
    "    return max(numbers) - min(numbers)\n",
    "\n",
    "range_value = calculate_range(int_list2)\n",
    "print(f\"Range: {range_value}\")\n"
   ]
  },
  {
   "cell_type": "code",
   "execution_count": 15,
   "id": "117d5e87-4bbc-4c95-8367-8c047a7da53a",
   "metadata": {},
   "outputs": [
    {
     "name": "stdout",
     "output_type": "stream",
     "text": [
      "Variance: 812.6744\n",
      "Standard Deviation: 28.507444641707192\n"
     ]
    }
   ],
   "source": [
    "# (iii) Create a program to find the variance and standard deviation of a list of numbers.\n",
    "\n",
    "def calculate_variance(numbers):\n",
    "    mean = sum(numbers) / len(numbers)\n",
    "    variance = sum((x - mean) ** 2 for x in numbers) / len(numbers)\n",
    "    return variance\n",
    "\n",
    "def calculate_standard_deviation(numbers):\n",
    "    variance = calculate_variance(numbers)\n",
    "    return variance ** 0.5\n",
    "\n",
    "variance_value = calculate_variance(int_list2)\n",
    "std_dev_value = calculate_standard_deviation(int_list2)\n",
    "print(f\"Variance: {variance_value}\")\n",
    "print(f\"Standard Deviation: {std_dev_value}\")\n"
   ]
  },
  {
   "cell_type": "code",
   "execution_count": 16,
   "id": "7c445b44-26d5-40cd-a700-67f712267fad",
   "metadata": {},
   "outputs": [
    {
     "name": "stdout",
     "output_type": "stream",
     "text": [
      "IQR: 48.25\n"
     ]
    }
   ],
   "source": [
    "# (iv) Implement a function to compute the interquartile range (IQR) of a list of values.\n",
    "\n",
    "def calculate_iqr(numbers):\n",
    "    sorted_numbers = sorted(numbers)\n",
    "    q1 = np.percentile(sorted_numbers, 25)\n",
    "    q3 = np.percentile(sorted_numbers, 75)\n",
    "    return q3 - q1\n",
    "\n",
    "iqr_value = calculate_iqr(int_list2)\n",
    "print(f\"IQR: {iqr_value}\")\n"
   ]
  },
  {
   "cell_type": "code",
   "execution_count": 17,
   "id": "cd5c3bc2-3bf3-496c-a0a6-e19b69a509be",
   "metadata": {},
   "outputs": [
    {
     "name": "stdout",
     "output_type": "stream",
     "text": [
      "Coefficient of Variation: 11.34669823344499%\n"
     ]
    }
   ],
   "source": [
    "# (v) Build a program to calculate the coefficient of variation for a dataset.\n",
    "\n",
    "def calculate_coefficient_of_variation(numbers):\n",
    "    mean = calculate_mean(numbers)\n",
    "    std_dev = calculate_standard_deviation(numbers)\n",
    "    return (std_dev / mean) * 100\n",
    "\n",
    "coefficient_of_variation = calculate_coefficient_of_variation(int_list2)\n",
    "print(f\"Coefficient of Variation: {coefficient_of_variation}%\")\n",
    "\n"
   ]
  },
  {
   "cell_type": "code",
   "execution_count": 18,
   "id": "18c5159e-d5e0-46df-a883-14e0df2093a7",
   "metadata": {},
   "outputs": [
    {
     "name": "stdout",
     "output_type": "stream",
     "text": [
      "MAD: 24.766400000000015\n"
     ]
    }
   ],
   "source": [
    "# (vi) Write a Python function to find the mean absolute deviation (MAD) of a list of numbers.\n",
    "\n",
    "def calculate_mad(numbers):\n",
    "    mean = calculate_mean(numbers)\n",
    "    mad = sum(abs(x - mean) for x in numbers) / len(numbers)\n",
    "    return mad\n",
    "\n",
    "mad_value = calculate_mad(int_list2)\n",
    "print(f\"MAD: {mad_value}\")\n"
   ]
  },
  {
   "cell_type": "code",
   "execution_count": 19,
   "id": "dd75b5ff-b834-4ab6-b8ab-36f07565e3e7",
   "metadata": {},
   "outputs": [
    {
     "name": "stdout",
     "output_type": "stream",
     "text": [
      "Quartile Deviation: 24.125\n"
     ]
    }
   ],
   "source": [
    "# (vii) Create a program to calculate the quartile deviation of a list of values.\n",
    "\n",
    "def calculate_quartile_deviation(numbers):\n",
    "    q1 = np.percentile(numbers, 25)\n",
    "    q3 = np.percentile(numbers, 75)\n",
    "    return (q3 - q1) / 2\n",
    "\n",
    "quartile_deviation = calculate_quartile_deviation(int_list2)\n",
    "print(f\"Quartile Deviation: {quartile_deviation}\")\n"
   ]
  },
  {
   "cell_type": "code",
   "execution_count": 20,
   "id": "e2c48d0d-64bc-4bc5-b63a-d61d637862d0",
   "metadata": {},
   "outputs": [
    {
     "name": "stdout",
     "output_type": "stream",
     "text": [
      "Range-based Coefficient of Dispersion: 39.802579207132624%\n"
     ]
    }
   ],
   "source": [
    "# (viii) Implement a function to find the range-based coefficient of dispersion for a dataset.\n",
    "\n",
    "def calculate_coefficient_of_dispersion(numbers):\n",
    "    range_value = calculate_range(numbers)\n",
    "    mean = calculate_mean(numbers)\n",
    "    return (range_value / mean) * 100\n",
    "\n",
    "coefficient_of_dispersion = calculate_coefficient_of_dispersion(int_list2)\n",
    "print(f\"Range-based Coefficient of Dispersion: {coefficient_of_dispersion}%\")\n"
   ]
  },
  {
   "cell_type": "code",
   "execution_count": 25,
   "id": "0b007d17-9a9c-47d4-aeb4-80f595f4bb46",
   "metadata": {},
   "outputs": [
    {
     "name": "stdout",
     "output_type": "stream",
     "text": [
      "Expected Value: 3.5\n",
      "Variance: 2.9166666666666665\n"
     ]
    }
   ],
   "source": [
    "# 3. Write a Python class representing a discrete random variable with methods to calculate its expected value and variance.\n",
    "\n",
    "class DiscreteRandomVariable:\n",
    "    def __init__(self, values, probabilities):\n",
    "        self.values = values\n",
    "        self.probabilities = probabilities\n",
    "    \n",
    "    def expected_value(self):\n",
    "        return sum(value * prob for value, prob in zip(self.values, self.probabilities))\n",
    "    \n",
    "    def variance(self):\n",
    "        mean = self.expected_value()\n",
    "        return sum(prob * (value - mean) ** 2 for value, prob in zip(self.values, self.probabilities))\n",
    "\n",
    "# Example usage:\n",
    "values = [1, 2, 3, 4, 5, 6]\n",
    "probabilities = [1/6] * 6  # Fair die probabilities\n",
    "\n",
    "rv = DiscreteRandomVariable(values, probabilities)\n",
    "print(f\"Expected Value: {rv.expected_value()}\")\n",
    "print(f\"Variance: {rv.variance()}\")\n"
   ]
  },
  {
   "cell_type": "code",
   "execution_count": 26,
   "id": "5df22150-5665-4bda-ba97-2b896f58b431",
   "metadata": {},
   "outputs": [
    {
     "name": "stdout",
     "output_type": "stream",
     "text": [
      "Expected Value: 3.4856\n",
      "Variance: 2.9575926400005432\n"
     ]
    }
   ],
   "source": [
    "# 4. Implement a program to simulate the rolling of a fair six-sided die and calculate the expected value and variance of the outcomes.\n",
    "\n",
    "import random\n",
    "\n",
    "def roll_die(num_rolls):\n",
    "    rolls = [random.randint(1, 6) for _ in range(num_rolls)]\n",
    "    return rolls\n",
    "\n",
    "def calculate_expected_value(outcomes):\n",
    "    return sum(outcomes) / len(outcomes)\n",
    "\n",
    "def calculate_variance(outcomes):\n",
    "    mean = calculate_expected_value(outcomes)\n",
    "    return sum((x - mean) ** 2 for x in outcomes) / len(outcomes)\n",
    "\n",
    "# Simulate rolling the die 10,000 times\n",
    "num_rolls = 10000\n",
    "outcomes = roll_die(num_rolls)\n",
    "\n",
    "expected_value = calculate_expected_value(outcomes)\n",
    "variance = calculate_variance(outcomes)\n",
    "\n",
    "print(f\"Expected Value: {expected_value}\")\n",
    "print(f\"Variance: {variance}\")\n"
   ]
  },
  {
   "cell_type": "code",
   "execution_count": 27,
   "id": "b2ff5887-007b-4ba3-a0f4-7408014007f8",
   "metadata": {},
   "outputs": [
    {
     "name": "stdout",
     "output_type": "stream",
     "text": [
      "Binomial Distribution - Mean: 4.991, Variance: 2.484919000000001\n",
      "Poisson Distribution - Mean: 5.045, Variance: 5.162975000000001\n"
     ]
    }
   ],
   "source": [
    "# 5. Create a Python function to generate random samples from a given probability distribution (e.g., binomial, Poisson) and calculate their mean and variance.\n",
    "\n",
    "import numpy as np\n",
    "\n",
    "def generate_random_samples(distribution, params, size=1000):\n",
    "    if distribution == 'binomial':\n",
    "        samples = np.random.binomial(params['n'], params['p'], size)\n",
    "    elif distribution == 'poisson':\n",
    "        samples = np.random.poisson(params['lambda'], size)\n",
    "    else:\n",
    "        raise ValueError(\"Unsupported distribution\")\n",
    "\n",
    "    mean = np.mean(samples)\n",
    "    variance = np.var(samples)\n",
    "    return samples, mean, variance\n",
    "\n",
    "# Example usage:\n",
    "params_binomial = {'n': 10, 'p': 0.5}\n",
    "samples, mean, variance = generate_random_samples('binomial', params_binomial)\n",
    "print(f\"Binomial Distribution - Mean: {mean}, Variance: {variance}\")\n",
    "\n",
    "params_poisson = {'lambda': 5}\n",
    "samples, mean, variance = generate_random_samples('poisson', params_poisson)\n",
    "print(f\"Poisson Distribution - Mean: {mean}, Variance: {variance}\")\n"
   ]
  },
  {
   "cell_type": "code",
   "execution_count": 29,
   "id": "8fd438b0-ad77-4aaa-9a3f-f27124bb4234",
   "metadata": {},
   "outputs": [
    {
     "name": "stdout",
     "output_type": "stream",
     "text": [
      "Gaussian Distribution - Mean: 0.03914153547287882\n",
      "Gaussian Distribution - Variance: 1.0160795427110587\n",
      "Gaussian Distribution - Standard Deviation: 1.008007709648621\n"
     ]
    }
   ],
   "source": [
    "#  6. Write a Python script to generate random numbers from a Gaussian (normal) distribution and compute the mean, variance, and standard deviation of the samples.\n",
    "\n",
    "import numpy as np\n",
    "\n",
    "def generate_gaussian_samples(mean=0, std_dev=1, size=1000):\n",
    "    samples = np.random.normal(mean, std_dev, size)\n",
    "    calculated_mean = np.mean(samples)\n",
    "    variance = np.var(samples)\n",
    "    std_dev = np.std(samples)\n",
    "    return samples, calculated_mean, variance, std_dev\n",
    "\n",
    "# Generate random numbers from a Gaussian distribution\n",
    "samples, calculated_mean, variance, std_dev = generate_gaussian_samples()\n",
    "\n",
    "print(f\"Gaussian Distribution - Mean: {calculated_mean}\")\n",
    "print(f\"Gaussian Distribution - Variance: {variance}\")\n",
    "print(f\"Gaussian Distribution - Standard Deviation: {std_dev}\")\n"
   ]
  },
  {
   "cell_type": "markdown",
   "id": "4864248b-def3-41a4-9960-ffb69d7f8f6d",
   "metadata": {},
   "source": [
    "    7. Use seaborn library to load 'tips' dataset. Find the following from the dataset for the columns 'total_bill and 'tip': \n",
    "    \n",
    "\n",
    "\n"
   ]
  },
  {
   "cell_type": "code",
   "execution_count": 31,
   "id": "d89de41f-433a-46f0-b645-509cece669c3",
   "metadata": {},
   "outputs": [
    {
     "name": "stdout",
     "output_type": "stream",
     "text": [
      "Skewness of total_bill: 1.1332130376158205\n",
      "Skewness of tip: 1.4654510370979401\n"
     ]
    }
   ],
   "source": [
    "import seaborn as sns\n",
    "import pandas as pd\n",
    "import numpy as np\n",
    "import matplotlib.pyplot as plt\n",
    "\n",
    "# Load the tips dataset\n",
    "tips = sns.load_dataset('tips')\n",
    "\n",
    "\n",
    "\n",
    "\n",
    "\n",
    "\n",
    "#(i) Write a Python function that calculates their skewness. \n",
    "  \n",
    "def calculate_skewness(column):\n",
    "    return column.skew()\n",
    "\n",
    "# Calculate skewness for 'total_bill' and 'tip'\n",
    "total_bill_skewness = calculate_skewness(tips['total_bill'])\n",
    "tip_skewness = calculate_skewness(tips['tip'])\n",
    "\n",
    "print(f\"Skewness of total_bill: {total_bill_skewness}\")\n",
    "print(f\"Skewness of tip: {tip_skewness}\")\n"
   ]
  },
  {
   "cell_type": "code",
   "execution_count": 35,
   "id": "1d9464ad-ccee-442a-bdaa-55a78b26beeb",
   "metadata": {},
   "outputs": [
    {
     "name": "stdout",
     "output_type": "stream",
     "text": [
      "The column 'total_bill' exhibits positive skewness.\n",
      "The column 'tip' exhibits positive skewness.\n"
     ]
    }
   ],
   "source": [
    "# (ii) Create a program that determines whether the columns exhibit positive skewness, negative skewness, or is approximately symmetric. \n",
    "\n",
    "def determine_skewness(column_name, skew_value):\n",
    "    if skew_value > 0:\n",
    "        skew_type = \"positive skewness\"\n",
    "    elif skew_value < 0:\n",
    "        skew_type = \"negative skewness\"\n",
    "    else:\n",
    "        skew_type = \"approximately symmetric\"\n",
    "    return f\"The column '{column_name}' exhibits {skew_type}.\"\n",
    "\n",
    "total_bill_skew_type = determine_skewness('total_bill', total_bill_skewness)\n",
    "tip_skew_type = determine_skewness('tip', tip_skewness)\n",
    "\n",
    "print(total_bill_skew_type)\n",
    "print(tip_skew_type)\n"
   ]
  },
  {
   "cell_type": "code",
   "execution_count": 36,
   "id": "52fe4855-76d7-4902-8bda-026daff52cb8",
   "metadata": {},
   "outputs": [
    {
     "name": "stdout",
     "output_type": "stream",
     "text": [
      "Covariance between total_bill and tip: 8.323501629224854\n"
     ]
    }
   ],
   "source": [
    "# (iii) Write a function that calculates the covariance between two columns. \n",
    "\n",
    "def calculate_covariance(column1, column2):\n",
    "    return np.cov(column1, column2)[0, 1]\n",
    "\n",
    "# Calculate covariance between 'total_bill' and 'tip'\n",
    "covariance = calculate_covariance(tips['total_bill'], tips['tip'])\n",
    "print(f\"Covariance between total_bill and tip: {covariance}\")\n"
   ]
  },
  {
   "cell_type": "code",
   "execution_count": 37,
   "id": "fd561779-30fd-4547-9525-2e733f978af8",
   "metadata": {},
   "outputs": [
    {
     "name": "stdout",
     "output_type": "stream",
     "text": [
      "Pearson correlation between total_bill and tip: 0.6757341092113641\n"
     ]
    }
   ],
   "source": [
    "# (iv) Implement a Python program that calculates the Pearson correlation coefficient between two columns. \n",
    "\n",
    "def calculate_pearson_correlation(column1, column2):\n",
    "    return column1.corr(column2)\n",
    "\n",
    "# Calculate Pearson correlation between 'total_bill' and 'tip'\n",
    "pearson_correlation = calculate_pearson_correlation(tips['total_bill'], tips['tip'])\n",
    "print(f\"Pearson correlation between total_bill and tip: {pearson_correlation}\")\n"
   ]
  },
  {
   "cell_type": "code",
   "execution_count": 38,
   "id": "1321bc57-4806-41be-8cec-18512582a812",
   "metadata": {},
   "outputs": [
    {
     "data": {
      "image/png": "[encoded data removed]",
      "text/plain": [
       "<Figure size 800x600 with 1 Axes>"
      ]
     },
     "metadata": {},
     "output_type": "display_data"
    }
   ],
   "source": [
    "# (v) Write a script to visualize the correlation between two specific columns in a Pandas DataFrame using scatter plots.\n",
    "\n",
    "def visualize_correlation(df, column1, column2):\n",
    "    plt.figure(figsize=(8, 6))\n",
    "    sns.scatterplot(x=column1, y=column2, data=df)\n",
    "    plt.title(f\"Scatter plot of {column1} vs {column2}\")\n",
    "    plt.xlabel(column1)\n",
    "    plt.ylabel(column2)\n",
    "    plt.show()\n",
    "\n",
    "# Visualize correlation between 'total_bill' and 'tip'\n",
    "visualize_correlation(tips, 'total_bill', 'tip')\n"
   ]
  },
  {
   "cell_type": "markdown",
   "id": "0d05fa54-d49b-4cb7-9b54-27a106c97b88",
   "metadata": {},
   "source": [
    "11. A company wants to test if a new website layout leads to a higher conversion rate (percentage of visitors who make a purchase). They collect data from the old and new layouts to compare. To generate the data use the following command: python import numpy as np #50 purchases out of 1000 visitors old layout = np.array([1] 50[0].950) #70 purchases out of 1000 visitors new_layout= np.array([1]70+ [0]*930) Apply z-test to find which layout is successful"
   ]
  },
  {
   "cell_type": "code",
   "execution_count": 41,
   "id": "852bc93b-0fca-43a5-ae6e-794518fb6851",
   "metadata": {},
   "outputs": [
    {
     "name": "stdout",
     "output_type": "stream",
     "text": [
      "Z-test statistic: -1.883108942886774\n",
      "P-value: 0.059685605532426224\n",
      "Fail to reject the null hypothesis: There is no significant difference in conversion rates.\n"
     ]
    }
   ],
   "source": [
    "import numpy as np\n",
    "from statsmodels.stats.proportion import proportions_ztest\n",
    "\n",
    "# Data for the old and new layout\n",
    "old_layout = np.array([1]*50 + [0]*950)  # 50 purchases out of 1000 visitors\n",
    "new_layout = np.array([1]*70 + [0]*930)  # 70 purchases out of 1000 visitors\n",
    "\n",
    "# Count of successes and number of observations\n",
    "count = np.array([old_layout.sum(), new_layout.sum()])\n",
    "nobs = np.array([len(old_layout), len(new_layout)])\n",
    "\n",
    "# Perform z-test\n",
    "stat, p_value = proportions_ztest(count, nobs)\n",
    "\n",
    "print(f\"Z-test statistic: {stat}\")\n",
    "print(f\"P-value: {p_value}\")\n",
    "\n",
    "if p_value < 0.05:\n",
    "    print(\"Reject the null hypothesis: The new layout leads to a higher conversion rate.\")\n",
    "else:\n",
    "    print(\"Fail to reject the null hypothesis: There is no significant difference in conversion rates.\")\n"
   ]
  },
  {
   "cell_type": "markdown",
   "id": "557b311d-f536-4e07-b994-088f940dbe67",
   "metadata": {},
   "source": [
    "2. A tutoring service claims that its program improves students' exam scores. A sample of students who participated in the program was taken, and their scores before and after the program were recorded. Use the below code to generate samples of respective arrays of marks: python before program np.array(175, 80, 85, 70, 90, 78, 92, 88, 82, 87]) after_program = np.array([80, 85, 90, 80, 92, 80, 95, 90, 85, 88)) Use z-test to find if the claims made by tutor are true or false. "
   ]
  },
  {
   "cell_type": "code",
   "execution_count": 40,
   "id": "fc8010fa-43e4-4a82-aedc-88a91a22c04a",
   "metadata": {},
   "outputs": [
    {
     "name": "stdout",
     "output_type": "stream",
     "text": [
      "Z-test statistic: 4.593190894944668\n",
      "P-value: 4.365194105293568e-06\n",
      "Reject the null hypothesis: The tutoring program significantly improves exam scores.\n"
     ]
    }
   ],
   "source": [
    "import numpy as np\n",
    "from scipy import stats\n",
    "\n",
    "# Data for before and after the program\n",
    "before_program = np.array([75, 80, 85, 70, 90, 78, 92, 88, 82, 87])\n",
    "after_program = np.array([80, 85, 90, 80, 92, 80, 95, 90, 85, 88])\n",
    "\n",
    "# Calculate the differences\n",
    "differences = after_program - before_program\n",
    "mean_diff = np.mean(differences)\n",
    "std_diff = np.std(differences, ddof=1)  # Sample standard deviation\n",
    "n = len(differences)\n",
    "\n",
    "# Perform z-test\n",
    "z_stat = mean_diff / (std_diff / np.sqrt(n))\n",
    "p_value = 2 * (1 - stats.norm.cdf(abs(z_stat)))\n",
    "\n",
    "print(f\"Z-test statistic: {z_stat}\")\n",
    "print(f\"P-value: {p_value}\")\n",
    "\n",
    "if p_value < 0.05:\n",
    "    print(\"Reject the null hypothesis: The tutoring program significantly improves exam scores.\")\n",
    "else:\n",
    "    print(\"Fail to reject the null hypothesis: There is no significant improvement in exam scores.\")\n"
   ]
  },
  {
   "cell_type": "markdown",
   "id": "ec324ce4-3d1a-49ff-b69b-a143d3fb74a9",
   "metadata": {},
   "source": [
    "13. A pharmaceutical company wants to determine if a new drug is effective in reducing blood pressure. They conduct a study and record blood pressure measurements before and after administering the drug. Use the below code to generate samples of respective arrays of blood pressure: python before_drug = np.array([145, 150, 140, 135, 155, 160, 152, 148, 130, 138)) after_drug np.array([130, 140, 132, 128, 145, 148, 138, 136, 125, 130)) Implement z-test to find if the drug really works or not."
   ]
  },
  {
   "cell_type": "code",
   "execution_count": 39,
   "id": "ade6910d-4f70-48a7-8bfe-4170d057f38c",
   "metadata": {},
   "outputs": [
    {
     "name": "stdout",
     "output_type": "stream",
     "text": [
      "Z-test statistic: 10.049875621120888\n",
      "P-value: 0.0\n",
      "Reject the null hypothesis: The drug is effective in reducing blood pressure.\n"
     ]
    }
   ],
   "source": [
    "import numpy as np\n",
    "from scipy import stats\n",
    "\n",
    "# Data for before and after administering the drug\n",
    "before_drug = np.array([145, 150, 140, 135, 155, 160, 152, 148, 130, 138])\n",
    "after_drug = np.array([130, 140, 132, 128, 145, 148, 138, 136, 125, 130])\n",
    "\n",
    "# Calculate the differences\n",
    "differences = before_drug - after_drug  # Difference before - after (should be positive if the drug is effective)\n",
    "mean_diff = np.mean(differences)\n",
    "std_diff = np.std(differences, ddof=1)\n",
    "n = len(differences)\n",
    "\n",
    "# Perform z-test\n",
    "z_stat = mean_diff / (std_diff / np.sqrt(n))\n",
    "p_value = 2 * (1 - stats.norm.cdf(abs(z_stat)))\n",
    "\n",
    "print(f\"Z-test statistic: {z_stat}\")\n",
    "print(f\"P-value: {p_value}\")\n",
    "\n",
    "if p_value < 0.05:\n",
    "    print(\"Reject the null hypothesis: The drug is effective in reducing blood pressure.\")\n",
    "else:\n",
    "    print(\"Fail to reject the null hypothesis: There is no significant effect of the drug on blood pressure.\")\n"
   ]
  },
  {
   "cell_type": "markdown",
   "id": "1d5ba567-bb89-4909-89c5-abb6ae739213",
   "metadata": {},
   "source": [
    "14. A customer service department claims that their average response time is less than 5 minutes. A sample of recent customer interactions was taken, and the response times were recorded. Implement the below code to generate the array of response time: python response times = np.array(14.3, 3.8, 5.1, 4.9, 4.7, 42, 5.2, 4.5, 4.6, 4.41) Implement z-test to find the claims made by customer service department are tru or false"
   ]
  },
  {
   "cell_type": "code",
   "execution_count": 42,
   "id": "d713f828-5fd0-446d-9f7e-5ab8a17e101b",
   "metadata": {},
   "outputs": [
    {
     "name": "stdout",
     "output_type": "stream",
     "text": [
      "Z-test statistic: 0.5833902566428775\n",
      "P-value: 0.7201846923027447\n",
      "Fail to reject the null hypothesis: There is no significant evidence that the average response time is less than 5 minutes.\n"
     ]
    }
   ],
   "source": [
    "import numpy as np\n",
    "from scipy import stats\n",
    "\n",
    "# Response times\n",
    "response_times = np.array([14.3, 3.8, 5.1, 4.9, 4.7, 4.2, 5.2, 4.5, 4.6, 4.41])\n",
    "\n",
    "# Hypothesized mean (less than 5 minutes)\n",
    "hypothesized_mean = 5\n",
    "\n",
    "# Calculate the sample mean and standard deviation\n",
    "sample_mean = np.mean(response_times)\n",
    "sample_std = np.std(response_times, ddof=1)\n",
    "n = len(response_times)\n",
    "\n",
    "# Perform z-test\n",
    "z_stat = (sample_mean - hypothesized_mean) / (sample_std / np.sqrt(n))\n",
    "p_value = stats.norm.cdf(z_stat)  # one-tailed test\n",
    "\n",
    "print(f\"Z-test statistic: {z_stat}\")\n",
    "print(f\"P-value: {p_value}\")\n",
    "\n",
    "if p_value < 0.05:\n",
    "    print(\"Reject the null hypothesis: The average response time is significantly less than 5 minutes.\")\n",
    "else:\n",
    "    print(\"Fail to reject the null hypothesis: There is no significant evidence that the average response time is less than 5 minutes.\")\n"
   ]
  },
  {
   "cell_type": "markdown",
   "id": "fa9f483f-dbba-42e9-a519-a3ccbc2d7fd3",
   "metadata": {},
   "source": [
    "15. A company is testing two different website layouts to see which one leads to higher click-through rates. Write a Python function to perform an A/B test analysis, including calculating the t-statistic, degrees of freedom, and p-value. Use the following data: python layout_a_clicks = [28, 32, 33, 29, 31, 34, 30, 35, 36, 37) layout_b_clicks = 40, 41, 38, 42, 39, 44, 43, 41, 45, 47) "
   ]
  },
  {
   "cell_type": "code",
   "execution_count": 43,
   "id": "6cf926d9-d44a-49b8-a739-7025e83ace4c",
   "metadata": {},
   "outputs": [
    {
     "name": "stdout",
     "output_type": "stream",
     "text": [
      "T-test statistic: 7.298102156175071\n",
      "Degrees of freedom: 18\n",
      "P-value: 8.833437608301987e-07\n",
      "Reject the null hypothesis: There is a significant difference between the two layouts.\n"
     ]
    }
   ],
   "source": [
    "import numpy as np\n",
    "from scipy import stats\n",
    "\n",
    "# Click-through rates for Layout A and Layout B\n",
    "layout_a_clicks = np.array([28, 32, 33, 29, 31, 34, 30, 35, 36, 37])\n",
    "layout_b_clicks = np.array([40, 41, 38, 42, 39, 44, 43, 41, 45, 47])\n",
    "\n",
    "# Perform t-test\n",
    "t_stat, p_value = stats.ttest_ind(layout_b_clicks, layout_a_clicks)\n",
    "\n",
    "# Degrees of freedom\n",
    "df = len(layout_a_clicks) + len(layout_b_clicks) - 2\n",
    "\n",
    "print(f\"T-test statistic: {t_stat}\")\n",
    "print(f\"Degrees of freedom: {df}\")\n",
    "print(f\"P-value: {p_value}\")\n",
    "\n",
    "if p_value < 0.05:\n",
    "    print(\"Reject the null hypothesis: There is a significant difference between the two layouts.\")\n",
    "else:\n",
    "    print(\"Fail to reject the null hypothesis: There is no significant difference between the two layouts.\")\n"
   ]
  },
  {
   "cell_type": "markdown",
   "id": "be3e6877-3162-42ac-a819-3ec52c9a6e2f",
   "metadata": {},
   "source": [
    "16. A pharmaceutical company wants to determine if a new drug is more effective than an existing drug in reducing cholesterol levels. Create a program to analyze the clinical trial data and calculate the t- statistic and p-value for the treatment effect. Use the following data of cholestrol level: python existing_drug_levels (180, 182, 175, 185, 178, 176, 172, 184, 179, 183) new_drug levels [170, 172, 165, 168, 175, 173, 170, 178, 172, 176]"
   ]
  },
  {
   "cell_type": "code",
   "execution_count": 44,
   "id": "cbe71cb3-6bf1-4f70-94ea-4f0c5888f234",
   "metadata": {},
   "outputs": [
    {
     "name": "stdout",
     "output_type": "stream",
     "text": [
      "T-test statistic: 4.14048098620866\n",
      "P-value: 0.0006143398442372505\n",
      "Reject the null hypothesis: The new drug is significantly more effective in reducing cholesterol levels.\n"
     ]
    }
   ],
   "source": [
    "import numpy as np\n",
    "from scipy import stats\n",
    "\n",
    "# Cholesterol levels for existing and new drug\n",
    "existing_drug_levels = np.array([180, 182, 175, 185, 178, 176, 172, 184, 179, 183])\n",
    "new_drug_levels = np.array([170, 172, 165, 168, 175, 173, 170, 178, 172, 176])\n",
    "\n",
    "# Perform t-test\n",
    "t_stat, p_value = stats.ttest_ind(existing_drug_levels, new_drug_levels)\n",
    "\n",
    "print(f\"T-test statistic: {t_stat}\")\n",
    "print(f\"P-value: {p_value}\")\n",
    "\n",
    "if p_value < 0.05:\n",
    "    print(\"Reject the null hypothesis: The new drug is significantly more effective in reducing cholesterol levels.\")\n",
    "else:\n",
    "    print(\"Fail to reject the null hypothesis: There is no significant difference in effectiveness between the two drugs.\")\n"
   ]
  },
  {
   "cell_type": "markdown",
   "id": "3a3727b8-ae1b-4878-8708-d9cc42c5acdb",
   "metadata": {},
   "source": [
    "17. A school district introduces an educational intervention program to improve math scores. Write a Python function to analyze pre- and post-intervention test scores, calculating the t-statistic and p-value to determine if the intervention had a significant impact. Use the following data of test score: python pre_intervention_scores 180, 85, 90, 75, 88, 82, 92, 78, 85, 87) post intervention_scores 190, 92, 88, 92, 95, 91, 96, 93, 89, 93)\n",
    "\n"
   ]
  },
  {
   "cell_type": "code",
   "execution_count": 45,
   "id": "866182c0-049e-43fc-bfc3-e87cace715b0",
   "metadata": {},
   "outputs": [
    {
     "name": "stdout",
     "output_type": "stream",
     "text": [
      "T-test statistic: 4.42840883965761\n",
      "P-value: 0.0016509548165795493\n",
      "Reject the null hypothesis: The intervention significantly improved math scores.\n"
     ]
    }
   ],
   "source": [
    "import numpy as np\n",
    "from scipy import stats\n",
    "\n",
    "# Test scores before and after intervention\n",
    "pre_intervention_scores = np.array([80, 85, 90, 75, 88, 82, 92, 78, 85, 87])\n",
    "post_intervention_scores = np.array([90, 92, 88, 92, 95, 91, 96, 93, 89, 93])\n",
    "\n",
    "# Perform paired t-test\n",
    "t_stat, p_value = stats.ttest_rel(post_intervention_scores, pre_intervention_scores)\n",
    "\n",
    "print(f\"T-test statistic: {t_stat}\")\n",
    "print(f\"P-value: {p_value}\")\n",
    "\n",
    "if p_value < 0.05:\n",
    "    print(\"Reject the null hypothesis: The intervention significantly improved math scores.\")\n",
    "else:\n",
    "    print(\"Fail to reject the null hypothesis: There is no significant improvement in math scores due to the intervention.\")\n"
   ]
  },
  {
   "cell_type": "markdown",
   "id": "05c1812b-e7a7-49e8-8347-4c29aa1b39c3",
   "metadata": {},
   "source": [
    "18. An HR department wants to investigate if there's a gender-based salary gap within the company. Develop a program to analyze salary data, calculate the t-statistic, and determine if there's a statistically significant difference between the average salaries of male and female employees. Use the below code to generate synthetic data: python Generate synthetic salary data for male and female employees np.random.seed(0) # For reproducibility salaries = np.random.normal(loc=50000, scale=10000, size 20) male female salaries np.random.normal(loc=55000, scale 9000, size 20) "
   ]
  },
  {
   "cell_type": "code",
   "execution_count": 46,
   "id": "3cfa828b-1dc2-427b-8e7a-9531b8119588",
   "metadata": {},
   "outputs": [
    {
     "name": "stdout",
     "output_type": "stream",
     "text": [
      "T-test statistic: 0.06114208969631383\n",
      "P-value: 0.9515665020676465\n",
      "Fail to reject the null hypothesis: There is no significant difference in average salaries between males and females.\n"
     ]
    }
   ],
   "source": [
    "import numpy as np\n",
    "from scipy import stats\n",
    "\n",
    "# Generate synthetic salary data\n",
    "np.random.seed(0)  # For reproducibility\n",
    "male_salaries = np.random.normal(loc=50000, scale=10000, size=20)\n",
    "female_salaries = np.random.normal(loc=55000, scale=9000, size=20)\n",
    "\n",
    "# Perform t-test\n",
    "t_stat, p_value = stats.ttest_ind(male_salaries, female_salaries)\n",
    "\n",
    "print(f\"T-test statistic: {t_stat}\")\n",
    "print(f\"P-value: {p_value}\")\n",
    "\n",
    "if p_value < 0.05:\n",
    "    print(\"Reject the null hypothesis: There is a significant difference in average salaries between males and females.\")\n",
    "else:\n",
    "    print(\"Fail to reject the null hypothesis: There is no significant difference in average salaries between males and females.\")\n"
   ]
  },
  {
   "cell_type": "markdown",
   "id": "12d08ad3-e867-49e8-b91f-0d1a130a7951",
   "metadata": {},
   "source": [
    "19. A manufacturer produces two different versions of a product and wants to compare their quality scores. Create a Python function to analyze quality assessment data, calculate the t-statistic, and decide whether there's a significant difference in quality between the two versions. Use the following data: python versiont scores 185, 88, 82, 89, 87, 84, 90, 88, 85, 86, 91, 83, 87, 84, 89, 86, 84, 88, 85, 86, 89, 90, 87, 88, 85] version2 scores 180, 78, 83, 81, 79, 82, 76, 80, 78, 81, 77, 82, 80, 79, 82, 79, 80, 81, 79, 82, 79, 78, 80, 81, 821 "
   ]
  },
  {
   "cell_type": "code",
   "execution_count": 47,
   "id": "339555da-b4cf-445d-a3bd-e126727b8b3b",
   "metadata": {},
   "outputs": [
    {
     "name": "stdout",
     "output_type": "stream",
     "text": [
      "T-test statistic: 11.325830417646698\n",
      "P-value: 3.6824250702873965e-15\n",
      "Reject the null hypothesis: There is a significant difference in quality between the two product versions.\n"
     ]
    }
   ],
   "source": [
    "import numpy as np\n",
    "from scipy import stats\n",
    "\n",
    "# Quality scores for two product versions\n",
    "version1_scores = np.array([85, 88, 82, 89, 87, 84, 90, 88, 85, 86, 91, 83, 87, 84, 89, 86, 84, 88, 85, 86, 89, 90, 87, 88, 85])\n",
    "version2_scores = np.array([80, 78, 83, 81, 79, 82, 76, 80, 78, 81, 77, 82, 80, 79, 82, 79, 80, 81, 79, 82, 79, 78, 80, 81, 82])\n",
    "\n",
    "# Perform t-test\n",
    "t_stat, p_value = stats.ttest_ind(version1_scores, version2_scores)\n",
    "\n",
    "print(f\"T-test statistic: {t_stat}\")\n",
    "print(f\"P-value: {p_value}\")\n",
    "\n",
    "if p_value < 0.05:\n",
    "    print(\"Reject the null hypothesis: There is a significant difference in quality between the two product versions.\")\n",
    "else:\n",
    "    print(\"Fail to reject the null hypothesis: There is no significant difference in quality between the two product versions.\")\n"
   ]
  },
  {
   "cell_type": "markdown",
   "id": "6173aac7-8ff9-4e7d-873b-57ddc440f8b9",
   "metadata": {},
   "source": [
    "20. A restaurant chain collects customer satisfaction scores for two different branches. Write a program to analyze the scores, calculate the t-statistic, and determine if there's a statistically significant difference in customer satisfaction between the branches. Use the below data of scores: python branch_a_scores = [4, 5, 3, 4, 5, 4, 5, 3, 4, 4, 5, 4, 4, 3, 4, 5, 5, 4, 3, 4, 5, 4, 3, 5, 4, 4, 5, 3, 4, 5, 4] branch_b_scores [3, 4, 2, 3, 4, 3, 4, 2, 3, 3, 4, 3, 3, 2, 3, 4, 4, 3, 2, 3, 4, 3, 24, 3, 3, 4, 2, 3, 4,3 "
   ]
  },
  {
   "cell_type": "code",
   "execution_count": 48,
   "id": "110e012b-3fca-485a-bea9-37c1707b6049",
   "metadata": {},
   "outputs": [
    {
     "name": "stdout",
     "output_type": "stream",
     "text": [
      "T-test statistic: 5.480077554195743\n",
      "P-value: 8.895290509945655e-07\n",
      "Reject the null hypothesis: There is a significant difference in customer satisfaction between the two branches.\n"
     ]
    }
   ],
   "source": [
    "import numpy as np\n",
    "from scipy import stats\n",
    "\n",
    "# Customer satisfaction scores for two branches\n",
    "branch_a_scores = np.array([4, 5, 3, 4, 5, 4, 5, 3, 4, 4, 5, 4, 4, 3, 4, 5, 5, 4, 3, 4, 5, 4, 3, 5, 4, 4, 5, 3, 4, 5, 4])\n",
    "branch_b_scores = np.array([3, 4, 2, 3, 4, 3, 4, 2, 3, 3, 4, 3, 3, 2, 3, 4, 4, 3, 2, 3, 4, 3, 2, 4, 3, 3, 4, 2, 3, 4, 3])\n",
    "\n",
    "# Perform t-test\n",
    "t_stat, p_value = stats.ttest_ind(branch_a_scores, branch_b_scores)\n",
    "\n",
    "print(f\"T-test statistic: {t_stat}\")\n",
    "print(f\"P-value: {p_value}\")\n",
    "\n",
    "if p_value < 0.05:\n",
    "    print(\"Reject the null hypothesis: There is a significant difference in customer satisfaction between the two branches.\")\n",
    "else:\n",
    "    print(\"Fail to reject the null hypothesis: There is no significant difference in customer satisfaction between the two branches.\")\n"
   ]
  },
  {
   "cell_type": "markdown",
   "id": "b6ecd95f-a046-452c-b95c-7d926f75a46e",
   "metadata": {},
   "source": [
    " 21. A political analyst wants to determine if there is a significant association between age groups and voter preferences (Candidate A or Candidate B). They collect data from a sample of 500 voters and classify them into different age groups and candidate preferences. Perform a Chi-Square test to determine if there is a significant association between age groups and voter preferences. Use the below code to generate data python age groups np.random.choice((18-30, 31-50, 51, 51+'], size=30) np.random.seed(0) voter preferences np.random.choice(('Candidate A', 'Candidate B'], size=30)"
   ]
  },
  {
   "cell_type": "code",
   "execution_count": 49,
   "id": "ed554760-9a15-4ed8-9125-3af0330d75c6",
   "metadata": {},
   "outputs": [
    {
     "name": "stdout",
     "output_type": "stream",
     "text": [
      "Chi-square statistic: 0.8779923945254768\n",
      "P-value: 0.6446832311860852\n",
      "Fail to reject the null hypothesis: There is no significant association between age groups and voter preferences.\n"
     ]
    }
   ],
   "source": [
    "import numpy as np\n",
    "import pandas as pd\n",
    "from scipy import stats\n",
    "\n",
    "# Generate synthetic data\n",
    "np.random.seed(0)  # For reproducibility\n",
    "age_groups = np.random.choice(['18-30', '31-50', '51+'], size=500)\n",
    "voter_preferences = np.random.choice(['Candidate A', 'Candidate B'], size=500)\n",
    "\n",
    "# Create a contingency table\n",
    "contingency_table = pd.crosstab(age_groups, voter_preferences)\n",
    "\n",
    "# Perform Chi-Square test\n",
    "chi2_stat, p_value, dof, expected = stats.chi2_contingency(contingency_table)\n",
    "\n",
    "print(f\"Chi-square statistic: {chi2_stat}\")\n",
    "print(f\"P-value: {p_value}\")\n",
    "\n",
    "if p_value < 0.05:\n",
    "    print(\"Reject the null hypothesis: There is a significant association between age groups and voter preferences.\")\n",
    "else:\n",
    "    print(\"Fail to reject the null hypothesis: There is no significant association between age groups and voter preferences.\")\n"
   ]
  },
  {
   "cell_type": "markdown",
   "id": "03355f6a-6b10-4eee-a445-8a0a3d4704e1",
   "metadata": {},
   "source": [
    "22. A company conducted a customer satisfaction survey to determine if there is a significant relationship between product satisfaction levels (Satisfied, Neutral, Dissatisfied) and the region where customers are located (East, West, North, South). The survey data is summarized in a contingency table. Conduct a Chi- Square test to determine if there is a significant relationship between product satisfaction levels and customer regions. Sample data: python #Sample data: Product satisfaction levels (rows) vs. Customer regions (columns) np.array([150, 30, 40, 20), (30, 40, 30, 50], [20, 30, 40, 30]])"
   ]
  },
  {
   "cell_type": "code",
   "execution_count": null,
   "id": "0cc008bf-f4a8-4489-90b0-f902f41fdb5d",
   "metadata": {},
   "outputs": [],
   "source": [
    "import numpy as np\n",
    "from scipy import stats\n",
    "\n",
    "# Sample data: Product satisfaction levels (rows) vs. Customer regions (columns)\n",
    "data = np.array([[150, 30, 40, 20],\n",
    "                 [30, 40, 30, 50],\n",
    "                 [20, 30, 40, 30]])\n",
    "\n",
    "# Perform Chi-Square test\n",
    "chi2_stat, p_value, dof, expected = stats.chi2_contingency(data)\n",
    "\n",
    "print(f\"Chi-square statistic: {chi2_stat}\")\n",
    "print(f\"P-value: {p_value}\")\n",
    "\n",
    "if p_value < 0.05:\n",
    "    print(\"Reject the null hypothesis: There is a significant relationship between product satisfaction levels and customer regions.\")\n",
    "else:\n",
    "    print(\"Fail to reject the null hypothesis: There is no significant relationship between product satisfaction levels and customer regions.\")\n"
   ]
  },
  {
   "cell_type": "markdown",
   "id": "50c94a62-5664-4d93-893a-8fbcb9617e74",
   "metadata": {},
   "source": [
    "23. A company implemented an employee training program to improve job performance (Effective, Neutral, Ineffective). After the training, they collected data from a sample of employees and classified them based on their job performance before and after the training. Perform a Chi-Square test to determine if there is a significant difference between job performance levels before and after the training. Sample data: python # Sample data: Job performance levels before (rows) and after (columns) training data np.array([50, 30, 20], [30, 40, 30], [20, 30, 40]]) "
   ]
  },
  {
   "cell_type": "code",
   "execution_count": null,
   "id": "2a9f3217-91e6-43c8-8223-8ae43f2827c3",
   "metadata": {},
   "outputs": [],
   "source": [
    "import numpy as np\n",
    "from scipy import stats\n",
    "\n",
    "# Sample data: Job performance levels before (rows) and after (columns) training\n",
    "data = np.array([[50, 30, 20],\n",
    "                 [30, 40, 30],\n",
    "                 [20, 30, 40]])\n",
    "\n",
    "# Perform Chi-Square test\n",
    "chi2_stat, p_value, dof, expected = stats.chi2_contingency(data)\n",
    "\n",
    "print(f\"Chi-square statistic: {chi2_stat}\")\n",
    "print(f\"P-value: {p_value}\")\n",
    "\n",
    "if p_value < 0.05:\n",
    "    print(\"Reject the null hypothesis: There is a significant difference in job performance levels before and after the training.\")\n",
    "else:\n",
    "    print(\"Fail to reject the null hypothesis: There is no significant difference in job performance levels before and after the training.\")\n"
   ]
  },
  {
   "cell_type": "markdown",
   "id": "dcccb4e0-47d2-4255-8ff5-da4c7ca9d3fc",
   "metadata": {},
   "source": [
    "24. A company produces three different versions of a product: Standard, Premium, and Deluxe. The company wants to determine if there is a significant difference in customer satisfaction scores among the three product versions. They conducted a survey and collected customer satisfaction scores for each version from a random sample of customers. Perform an ANOVA test to determine if there is a significant difference in customer satisfaction scores. Use the following data: python #Sample data: Customer satisfaction scores for each product version standard scores = 180, 85, 90, 78, 88, 82, 92, 78, 85, 87 premium scores 190, 92, 88, 92, 95, 91, 96, 93, 89, 93 deluxe scores = [95, 98, 92, 97, 96, 94, 98, 97, 92, 99]"
   ]
  },
  {
   "cell_type": "code",
   "execution_count": 50,
   "id": "299fb71e-208f-490d-a35a-fd6f7286d820",
   "metadata": {},
   "outputs": [
    {
     "name": "stdout",
     "output_type": "stream",
     "text": [
      "ANOVA F-statistic: 27.03556231003039\n",
      "P-value: 3.5786328857349003e-07\n",
      "Reject the null hypothesis: There is a significant difference in customer satisfaction scores among the three product versions.\n"
     ]
    }
   ],
   "source": [
    "import numpy as np\n",
    "from scipy import stats\n",
    "\n",
    "# Sample data: Customer satisfaction scores for each product version\n",
    "standard_scores = [80, 85, 90, 78, 88, 82, 92, 78, 85, 87]\n",
    "premium_scores = [90, 92, 88, 92, 95, 91, 96, 93, 89, 93]\n",
    "deluxe_scores = [95, 98, 92, 97, 96, 94, 98, 97, 92, 99]\n",
    "\n",
    "# Perform ANOVA test\n",
    "f_stat, p_value = stats.f_oneway(standard_scores, premium_scores, deluxe_scores)\n",
    "\n",
    "print(f\"ANOVA F-statistic: {f_stat}\")\n",
    "print(f\"P-value: {p_value}\")\n",
    "\n",
    "if p_value < 0.05:\n",
    "    print(\"Reject the null hypothesis: There is a significant difference in customer satisfaction scores among the three product versions.\")\n",
    "else:\n",
    "    print(\"Fail to reject the null hypothesis: There is no significant difference in customer satisfaction scores among the three product versions.\")\n"
   ]
  },
  {
   "cell_type": "code",
   "execution_count": null,
   "id": "60b56615-1365-4a0b-8fe8-418edcc6a121",
   "metadata": {},
   "outputs": [],
   "source": []
  },
  {
   "cell_type": "code",
   "execution_count": null,
   "id": "4bdbb8ab-446c-4dae-ada9-efccf14d5488",
   "metadata": {},
   "outputs": [],
   "source": []
  }
 ],
 "metadata": {
  "kernelspec": {
   "display_name": "Python 3 (ipykernel)",
   "language": "python",
   "name": "python3"
  },
  "language_info": {
   "codemirror_mode": {
    "name": "ipython",
    "version": 3
   },
   "file_extension": ".py",
   "mimetype": "text/x-python",
   "name": "python",
   "nbconvert_exporter": "python",
   "pygments_lexer": "ipython3",
   "version": "3.10.8"
  }
 },
 "nbformat": 4,
 "nbformat_minor": 5
}
